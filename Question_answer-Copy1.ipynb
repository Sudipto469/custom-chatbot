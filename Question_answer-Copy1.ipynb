{
 "cells": [
  {
   "cell_type": "code",
   "execution_count": 1,
   "id": "ed415711",
   "metadata": {},
   "outputs": [],
   "source": [
    "import torch\n",
    "from transformers import BertForQuestionAnswering\n",
    "from transformers import BertTokenizer\n",
    "\n",
    "#Model\n",
    "model = BertForQuestionAnswering.from_pretrained('bert-large-uncased-whole-word-masking-finetuned-squad')\n",
    "\n",
    "#Tokenizer\n",
    "tokenizer = BertTokenizer.from_pretrained('bert-large-uncased-whole-word-masking-finetuned-squad')"
   ]
  },
  {
   "cell_type": "markdown",
   "id": "bcc962fd",
   "metadata": {},
   "source": [
    "https://medium.com/analytics-vidhya/question-answering-system-with-bert-ebe1130f8def"
   ]
  },
  {
   "cell_type": "code",
   "execution_count": 32,
   "id": "eb08c54e",
   "metadata": {},
   "outputs": [],
   "source": [
    "question = '''what did the user say'''\n",
    "\n",
    "paragraph = ''' \n",
    "the user said : dont show table 1 , show table 2\n",
    "'''\n",
    "            \n",
    "encoding = tokenizer.encode_plus(text=question,text_pair=paragraph)\n",
    "\n",
    "inputs = encoding['input_ids']  #Token embeddings\n",
    "sentence_embedding = encoding['token_type_ids']  #Segment embeddings\n",
    "tokens = tokenizer.convert_ids_to_tokens(inputs) #input tokens"
   ]
  },
  {
   "cell_type": "code",
   "execution_count": 33,
   "id": "e6ca07ab",
   "metadata": {},
   "outputs": [],
   "source": [
    "start_scores, end_scores = model(input_ids=torch.tensor([inputs]), token_type_ids=torch.tensor([sentence_embedding]),return_dict=False)"
   ]
  },
  {
   "cell_type": "code",
   "execution_count": 34,
   "id": "c74f578d",
   "metadata": {},
   "outputs": [
    {
     "name": "stdout",
     "output_type": "stream",
     "text": [
      "tensor([[-1.3145, -5.8548, -6.0229, -6.5460, -4.8798, -7.7531, -1.3143, -4.9646,\n",
      "         -2.8387, -3.2242, -2.0213, -4.8228, -2.5351, -4.3283, -3.7578, -1.0992,\n",
      "         -2.9506, -4.8579, -3.6763,  2.1324, -1.3146]],\n",
      "       grad_fn=<CloneBackward0>)\n"
     ]
    }
   ],
   "source": [
    "print(end_scores)"
   ]
  },
  {
   "cell_type": "code",
   "execution_count": 35,
   "id": "da472054",
   "metadata": {},
   "outputs": [],
   "source": [
    "start_index = torch.argmax(start_scores)\n",
    "end_index = torch.argmax(end_scores)\n",
    "answer = ' '.join(tokens[start_index:end_index+1])"
   ]
  },
  {
   "cell_type": "code",
   "execution_count": 36,
   "id": "84cd60fc",
   "metadata": {},
   "outputs": [
    {
     "name": "stdout",
     "output_type": "stream",
     "text": [
      " dont show table 1 , show table 2\n"
     ]
    }
   ],
   "source": [
    "corrected_answer = ''\n",
    "\n",
    "for word in answer.split():\n",
    "    \n",
    "    #If it's a subword token\n",
    "    if word[0:2] == '##':\n",
    "        corrected_answer += word[2:]\n",
    "    else:\n",
    "        corrected_answer += ' ' + word\n",
    "\n",
    "print(corrected_answer)"
   ]
  },
  {
   "cell_type": "code",
   "execution_count": null,
   "id": "7499564e",
   "metadata": {},
   "outputs": [],
   "source": []
  },
  {
   "cell_type": "code",
   "execution_count": null,
   "id": "b49879ae",
   "metadata": {},
   "outputs": [],
   "source": []
  }
 ],
 "metadata": {
  "kernelspec": {
   "display_name": "Python 3 (ipykernel)",
   "language": "python",
   "name": "python3"
  },
  "language_info": {
   "codemirror_mode": {
    "name": "ipython",
    "version": 3
   },
   "file_extension": ".py",
   "mimetype": "text/x-python",
   "name": "python",
   "nbconvert_exporter": "python",
   "pygments_lexer": "ipython3",
   "version": "3.7.13"
  }
 },
 "nbformat": 4,
 "nbformat_minor": 5
}
